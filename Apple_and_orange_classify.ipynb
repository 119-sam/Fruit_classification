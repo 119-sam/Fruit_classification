{
 "cells": [
  {
   "cell_type": "markdown",
   "id": "06b4cc1f-be4b-4342-9959-7a4d98cae31b",
   "metadata": {},
   "source": [
    "# Apple and orange classification using Knn algorithm\n",
    "## Overview\n",
    "\n",
    "This project aims to classify apples and oranges based on their weight and size using a K-Nearest Neighbors (KNN) classifier. The dataset contains features such as weight and size, and the target variable is the class (apple or orange)."
   ]
  },
  {
   "cell_type": "markdown",
   "id": "89cc26f1-4463-4792-86f6-7df53fba125b",
   "metadata": {},
   "source": [
    "## Importing necessry libraries"
   ]
  },
  {
   "cell_type": "code",
   "execution_count": 3,
   "id": "83673a9d-e971-4fd8-aa9a-7b83e9ee2f97",
   "metadata": {},
   "outputs": [],
   "source": [
    "import numpy as np\n",
    "import pandas as pd\n",
    "from sklearn.model_selection import train_test_split\n",
    "from sklearn.neighbors import KNeighborsClassifier\n",
    "from sklearn.metrics import confusion_matrix, ConfusionMatrixDisplay, accuracy_score\n",
    "import matplotlib.pyplot as plt"
   ]
  },
  {
   "cell_type": "markdown",
   "id": "fcf5c104-e8f7-4370-a3a1-f5085e0c988e",
   "metadata": {},
   "source": [
    "### importing Dataset\n",
    "\n",
    "The dataset includes the following features:\n",
    "\n",
    "Weight: The weight of the fruit in grams.\n",
    "\n",
    "Size: The size of the fruit in centimeters.\n",
    "\n",
    "Class: The class of the fruit (apple or orange)."
   ]
  },
  {
   "cell_type": "code",
   "execution_count": 5,
   "id": "6793fb67-251b-46e7-868f-091364e5f290",
   "metadata": {},
   "outputs": [],
   "source": [
    "df= pd.read_csv(r'C:\\Users\\admin\\Downloads\\apples_and_oranges.csv')"
   ]
  },
  {
   "cell_type": "code",
   "execution_count": 6,
   "id": "0b1a2829-cfd4-440e-95c1-ae1f464dd3ba",
   "metadata": {},
   "outputs": [
    {
     "data": {
      "text/html": [
       "<div>\n",
       "<style scoped>\n",
       "    .dataframe tbody tr th:only-of-type {\n",
       "        vertical-align: middle;\n",
       "    }\n",
       "\n",
       "    .dataframe tbody tr th {\n",
       "        vertical-align: top;\n",
       "    }\n",
       "\n",
       "    .dataframe thead th {\n",
       "        text-align: right;\n",
       "    }\n",
       "</style>\n",
       "<table border=\"1\" class=\"dataframe\">\n",
       "  <thead>\n",
       "    <tr style=\"text-align: right;\">\n",
       "      <th></th>\n",
       "      <th>Weight</th>\n",
       "      <th>Size</th>\n",
       "      <th>Class</th>\n",
       "    </tr>\n",
       "  </thead>\n",
       "  <tbody>\n",
       "    <tr>\n",
       "      <th>0</th>\n",
       "      <td>69</td>\n",
       "      <td>4.39</td>\n",
       "      <td>orange</td>\n",
       "    </tr>\n",
       "    <tr>\n",
       "      <th>1</th>\n",
       "      <td>69</td>\n",
       "      <td>4.21</td>\n",
       "      <td>orange</td>\n",
       "    </tr>\n",
       "    <tr>\n",
       "      <th>2</th>\n",
       "      <td>65</td>\n",
       "      <td>4.09</td>\n",
       "      <td>orange</td>\n",
       "    </tr>\n",
       "    <tr>\n",
       "      <th>3</th>\n",
       "      <td>72</td>\n",
       "      <td>5.85</td>\n",
       "      <td>apple</td>\n",
       "    </tr>\n",
       "    <tr>\n",
       "      <th>4</th>\n",
       "      <td>67</td>\n",
       "      <td>4.70</td>\n",
       "      <td>orange</td>\n",
       "    </tr>\n",
       "  </tbody>\n",
       "</table>\n",
       "</div>"
      ],
      "text/plain": [
       "   Weight  Size   Class\n",
       "0      69  4.39  orange\n",
       "1      69  4.21  orange\n",
       "2      65  4.09  orange\n",
       "3      72  5.85   apple\n",
       "4      67  4.70  orange"
      ]
     },
     "execution_count": 6,
     "metadata": {},
     "output_type": "execute_result"
    }
   ],
   "source": [
    "df.head()"
   ]
  },
  {
   "cell_type": "code",
   "execution_count": 7,
   "id": "74d3244e-7975-40e3-bf57-19193609dbc8",
   "metadata": {},
   "outputs": [],
   "source": [
    "df = pd.DataFrame(df)"
   ]
  },
  {
   "cell_type": "code",
   "execution_count": 8,
   "id": "78487050-87a5-431d-84d8-72be080094a0",
   "metadata": {},
   "outputs": [
    {
     "data": {
      "text/plain": [
       "(40, 3)"
      ]
     },
     "execution_count": 8,
     "metadata": {},
     "output_type": "execute_result"
    }
   ],
   "source": [
    "df.shape"
   ]
  },
  {
   "cell_type": "markdown",
   "id": "1d398826-ffc9-4342-9c2b-4011c862e42f",
   "metadata": {},
   "source": [
    "### Convert Class Column to Numeric:"
   ]
  },
  {
   "cell_type": "code",
   "execution_count": 10,
   "id": "f3d22541-0246-4305-824c-ab4224df35b7",
   "metadata": {},
   "outputs": [
    {
     "name": "stderr",
     "output_type": "stream",
     "text": [
      "C:\\Users\\admin\\AppData\\Local\\Temp\\ipykernel_17400\\1553866379.py:1: FutureWarning: Downcasting behavior in `replace` is deprecated and will be removed in a future version. To retain the old behavior, explicitly call `result.infer_objects(copy=False)`. To opt-in to the future behavior, set `pd.set_option('future.no_silent_downcasting', True)`\n",
      "  df['Class'] = df['Class'].replace(['apple', 'orange'], [1, 0])\n"
     ]
    },
    {
     "data": {
      "text/html": [
       "<div>\n",
       "<style scoped>\n",
       "    .dataframe tbody tr th:only-of-type {\n",
       "        vertical-align: middle;\n",
       "    }\n",
       "\n",
       "    .dataframe tbody tr th {\n",
       "        vertical-align: top;\n",
       "    }\n",
       "\n",
       "    .dataframe thead th {\n",
       "        text-align: right;\n",
       "    }\n",
       "</style>\n",
       "<table border=\"1\" class=\"dataframe\">\n",
       "  <thead>\n",
       "    <tr style=\"text-align: right;\">\n",
       "      <th></th>\n",
       "      <th>Weight</th>\n",
       "      <th>Size</th>\n",
       "      <th>Class</th>\n",
       "    </tr>\n",
       "  </thead>\n",
       "  <tbody>\n",
       "    <tr>\n",
       "      <th>0</th>\n",
       "      <td>69</td>\n",
       "      <td>4.39</td>\n",
       "      <td>0</td>\n",
       "    </tr>\n",
       "    <tr>\n",
       "      <th>1</th>\n",
       "      <td>69</td>\n",
       "      <td>4.21</td>\n",
       "      <td>0</td>\n",
       "    </tr>\n",
       "    <tr>\n",
       "      <th>2</th>\n",
       "      <td>65</td>\n",
       "      <td>4.09</td>\n",
       "      <td>0</td>\n",
       "    </tr>\n",
       "    <tr>\n",
       "      <th>3</th>\n",
       "      <td>72</td>\n",
       "      <td>5.85</td>\n",
       "      <td>1</td>\n",
       "    </tr>\n",
       "    <tr>\n",
       "      <th>4</th>\n",
       "      <td>67</td>\n",
       "      <td>4.70</td>\n",
       "      <td>0</td>\n",
       "    </tr>\n",
       "  </tbody>\n",
       "</table>\n",
       "</div>"
      ],
      "text/plain": [
       "   Weight  Size  Class\n",
       "0      69  4.39      0\n",
       "1      69  4.21      0\n",
       "2      65  4.09      0\n",
       "3      72  5.85      1\n",
       "4      67  4.70      0"
      ]
     },
     "execution_count": 10,
     "metadata": {},
     "output_type": "execute_result"
    }
   ],
   "source": [
    "df['Class'] = df['Class'].replace(['apple', 'orange'], [1, 0])\n",
    "df.head()"
   ]
  },
  {
   "cell_type": "markdown",
   "id": "08460f81-2f01-49d4-8c47-8e9d7bae97dc",
   "metadata": {},
   "source": [
    "## Generating Additional Data Points"
   ]
  },
  {
   "cell_type": "code",
   "execution_count": 12,
   "id": "91070971-bca3-4c90-a158-d002e079b35a",
   "metadata": {},
   "outputs": [
    {
     "name": "stdout",
     "output_type": "stream",
     "text": [
      "[[69.    4.39  0.  ]\n",
      " [69.    4.21  0.  ]\n",
      " [65.    4.09  0.  ]\n",
      " [72.    5.85  1.  ]\n",
      " [67.    4.7   0.  ]\n",
      " [73.    5.68  1.  ]\n",
      " [70.    5.56  1.  ]\n",
      " [75.    5.11  1.  ]\n",
      " [74.    5.36  1.  ]\n",
      " [65.    4.27  0.  ]\n",
      " [73.    5.79  1.  ]\n",
      " [70.    5.47  1.  ]\n",
      " [74.    5.53  1.  ]\n",
      " [68.    4.47  0.  ]\n",
      " [74.    5.22  1.  ]\n",
      " [65.    4.48  0.  ]\n",
      " [69.    4.66  0.  ]\n",
      " [75.    5.25  1.  ]\n",
      " [67.    4.18  0.  ]\n",
      " [74.    5.5   1.  ]\n",
      " [66.    4.13  0.  ]\n",
      " [70.    4.83  0.  ]\n",
      " [69.    4.61  0.  ]\n",
      " [68.    4.08  0.  ]\n",
      " [67.    4.25  0.  ]\n",
      " [71.    5.35  1.  ]\n",
      " [67.    4.01  0.  ]\n",
      " [70.    4.22  0.  ]\n",
      " [74.    5.25  1.  ]\n",
      " [71.    5.26  1.  ]\n",
      " [73.    5.78  1.  ]\n",
      " [66.    4.68  0.  ]\n",
      " [72.    5.72  1.  ]\n",
      " [73.    5.17  1.  ]\n",
      " [68.    4.83  0.  ]\n",
      " [69.    4.11  0.  ]\n",
      " [69.    4.76  0.  ]\n",
      " [74.    5.48  1.  ]\n",
      " [70.    5.59  1.  ]\n",
      " [73.    5.03  1.  ]\n",
      " [70.    5.6   1.  ]\n",
      " [74.    4.3   0.  ]\n",
      " [74.    5.7   1.  ]\n",
      " [68.    5.5   1.  ]\n",
      " [65.    4.5   0.  ]\n",
      " [68.    5.3   1.  ]\n",
      " [61.    4.1   0.  ]\n",
      " [71.    4.1   0.  ]\n",
      " [73.    5.2   1.  ]\n",
      " [74.    5.3   1.  ]]\n"
     ]
    }
   ],
   "source": [
    "num_new_points = 10\n",
    "new_data = []\n",
    "for _ in range(num_new_points):\n",
    "   point = df.iloc[np.random.randint(0, len(df))]\n",
    "   new_weight = point['Weight'] + np.random.uniform(-5, 5) \n",
    "   new_size = point['Size'] + np.random.uniform(-0.5, 0.5) \n",
    "   new_class = point['Class']\n",
    "   new_data.append([round(new_weight), round(new_size, 1), new_class])\n",
    "\n",
    "new_data_df = pd.DataFrame(new_data, columns=['weight', 'size', 'class'])\n",
    "\n",
    "new_data = np.array(new_data)\n",
    "\n",
    "data = np.vstack((df, new_data))\n",
    "\n",
    "print(data)"
   ]
  },
  {
   "cell_type": "code",
   "execution_count": 13,
   "id": "484ec053-a69d-4f4e-8707-61fb5b84bf32",
   "metadata": {},
   "outputs": [
    {
     "data": {
      "text/html": [
       "<div>\n",
       "<style scoped>\n",
       "    .dataframe tbody tr th:only-of-type {\n",
       "        vertical-align: middle;\n",
       "    }\n",
       "\n",
       "    .dataframe tbody tr th {\n",
       "        vertical-align: top;\n",
       "    }\n",
       "\n",
       "    .dataframe thead th {\n",
       "        text-align: right;\n",
       "    }\n",
       "</style>\n",
       "<table border=\"1\" class=\"dataframe\">\n",
       "  <thead>\n",
       "    <tr style=\"text-align: right;\">\n",
       "      <th></th>\n",
       "      <th>0</th>\n",
       "      <th>1</th>\n",
       "      <th>2</th>\n",
       "    </tr>\n",
       "  </thead>\n",
       "  <tbody>\n",
       "    <tr>\n",
       "      <th>0</th>\n",
       "      <td>69.0</td>\n",
       "      <td>4.39</td>\n",
       "      <td>0.0</td>\n",
       "    </tr>\n",
       "    <tr>\n",
       "      <th>1</th>\n",
       "      <td>69.0</td>\n",
       "      <td>4.21</td>\n",
       "      <td>0.0</td>\n",
       "    </tr>\n",
       "    <tr>\n",
       "      <th>2</th>\n",
       "      <td>65.0</td>\n",
       "      <td>4.09</td>\n",
       "      <td>0.0</td>\n",
       "    </tr>\n",
       "    <tr>\n",
       "      <th>3</th>\n",
       "      <td>72.0</td>\n",
       "      <td>5.85</td>\n",
       "      <td>1.0</td>\n",
       "    </tr>\n",
       "    <tr>\n",
       "      <th>4</th>\n",
       "      <td>67.0</td>\n",
       "      <td>4.70</td>\n",
       "      <td>0.0</td>\n",
       "    </tr>\n",
       "  </tbody>\n",
       "</table>\n",
       "</div>"
      ],
      "text/plain": [
       "      0     1    2\n",
       "0  69.0  4.39  0.0\n",
       "1  69.0  4.21  0.0\n",
       "2  65.0  4.09  0.0\n",
       "3  72.0  5.85  1.0\n",
       "4  67.0  4.70  0.0"
      ]
     },
     "execution_count": 13,
     "metadata": {},
     "output_type": "execute_result"
    }
   ],
   "source": [
    "data = pd.DataFrame(data)\n",
    "data.head()"
   ]
  },
  {
   "cell_type": "markdown",
   "id": "4f35de58-e49e-4ee1-96b6-81c149f1cc91",
   "metadata": {},
   "source": [
    "## Renaming columns names"
   ]
  },
  {
   "cell_type": "code",
   "execution_count": 15,
   "id": "0765f4a7-1ad5-4cc9-b2d7-27cf4f1ec432",
   "metadata": {},
   "outputs": [
    {
     "data": {
      "text/html": [
       "<div>\n",
       "<style scoped>\n",
       "    .dataframe tbody tr th:only-of-type {\n",
       "        vertical-align: middle;\n",
       "    }\n",
       "\n",
       "    .dataframe tbody tr th {\n",
       "        vertical-align: top;\n",
       "    }\n",
       "\n",
       "    .dataframe thead th {\n",
       "        text-align: right;\n",
       "    }\n",
       "</style>\n",
       "<table border=\"1\" class=\"dataframe\">\n",
       "  <thead>\n",
       "    <tr style=\"text-align: right;\">\n",
       "      <th></th>\n",
       "      <th>Weight</th>\n",
       "      <th>Size</th>\n",
       "      <th>Class</th>\n",
       "    </tr>\n",
       "  </thead>\n",
       "  <tbody>\n",
       "    <tr>\n",
       "      <th>35</th>\n",
       "      <td>69</td>\n",
       "      <td>4.11</td>\n",
       "      <td>0</td>\n",
       "    </tr>\n",
       "    <tr>\n",
       "      <th>36</th>\n",
       "      <td>69</td>\n",
       "      <td>4.76</td>\n",
       "      <td>0</td>\n",
       "    </tr>\n",
       "    <tr>\n",
       "      <th>37</th>\n",
       "      <td>74</td>\n",
       "      <td>5.48</td>\n",
       "      <td>1</td>\n",
       "    </tr>\n",
       "    <tr>\n",
       "      <th>38</th>\n",
       "      <td>70</td>\n",
       "      <td>5.59</td>\n",
       "      <td>1</td>\n",
       "    </tr>\n",
       "    <tr>\n",
       "      <th>39</th>\n",
       "      <td>73</td>\n",
       "      <td>5.03</td>\n",
       "      <td>1</td>\n",
       "    </tr>\n",
       "  </tbody>\n",
       "</table>\n",
       "</div>"
      ],
      "text/plain": [
       "    Weight  Size  Class\n",
       "35      69  4.11      0\n",
       "36      69  4.76      0\n",
       "37      74  5.48      1\n",
       "38      70  5.59      1\n",
       "39      73  5.03      1"
      ]
     },
     "execution_count": 15,
     "metadata": {},
     "output_type": "execute_result"
    }
   ],
   "source": [
    "df = df.rename(columns={0: 'Weight', 1: 'Size', 2: 'Class'})\n",
    "df.tail()"
   ]
  },
  {
   "cell_type": "markdown",
   "id": "22b5aaa1-f8e9-4262-89ff-cf383fe2cc6d",
   "metadata": {},
   "source": [
    "## Visiulaizing Data points "
   ]
  },
  {
   "cell_type": "code",
   "execution_count": 17,
   "id": "c4c43f5b-2982-4e15-8702-bfcdb5648b73",
   "metadata": {},
   "outputs": [
    {
     "data": {
      "image/png": "[encoded data removed]",
      "text/plain": [
       "<Figure size 800x600 with 1 Axes>"
      ]
     },
     "metadata": {},
     "output_type": "display_data"
    }
   ],
   "source": [
    "plt.figure(figsize=(8, 6))\n",
    "for fruit_class in df['Class'].unique():\n",
    "    subset = df[df['Class'] == fruit_class]\n",
    "    plt.scatter(subset['Size'], subset['Weight'], label=fruit_class)\n",
    "\n",
    "plt.xlabel('Size (cm)')\n",
    "plt.ylabel('Weight (grams)')\n",
    "plt.title('Apple vs Orange Classification')\n",
    "plt.legend()\n",
    "plt.show()\n"
   ]
  },
  {
   "cell_type": "markdown",
   "id": "9ec39755-86fe-410f-94d0-2742d6dac8d1",
   "metadata": {},
   "source": [
    "## Spliting the data into Traning and Testing"
   ]
  },
  {
   "cell_type": "code",
   "execution_count": 19,
   "id": "3e25014e-0569-4bfd-bca6-6ff18e3db4b5",
   "metadata": {},
   "outputs": [
    {
     "data": {
      "text/html": [
       "<div>\n",
       "<style scoped>\n",
       "    .dataframe tbody tr th:only-of-type {\n",
       "        vertical-align: middle;\n",
       "    }\n",
       "\n",
       "    .dataframe tbody tr th {\n",
       "        vertical-align: top;\n",
       "    }\n",
       "\n",
       "    .dataframe thead th {\n",
       "        text-align: right;\n",
       "    }\n",
       "</style>\n",
       "<table border=\"1\" class=\"dataframe\">\n",
       "  <thead>\n",
       "    <tr style=\"text-align: right;\">\n",
       "      <th></th>\n",
       "      <th>Weight</th>\n",
       "      <th>Size</th>\n",
       "    </tr>\n",
       "  </thead>\n",
       "  <tbody>\n",
       "    <tr>\n",
       "      <th>0</th>\n",
       "      <td>69</td>\n",
       "      <td>4.39</td>\n",
       "    </tr>\n",
       "    <tr>\n",
       "      <th>1</th>\n",
       "      <td>69</td>\n",
       "      <td>4.21</td>\n",
       "    </tr>\n",
       "    <tr>\n",
       "      <th>2</th>\n",
       "      <td>65</td>\n",
       "      <td>4.09</td>\n",
       "    </tr>\n",
       "    <tr>\n",
       "      <th>3</th>\n",
       "      <td>72</td>\n",
       "      <td>5.85</td>\n",
       "    </tr>\n",
       "    <tr>\n",
       "      <th>4</th>\n",
       "      <td>67</td>\n",
       "      <td>4.70</td>\n",
       "    </tr>\n",
       "  </tbody>\n",
       "</table>\n",
       "</div>"
      ],
      "text/plain": [
       "   Weight  Size\n",
       "0      69  4.39\n",
       "1      69  4.21\n",
       "2      65  4.09\n",
       "3      72  5.85\n",
       "4      67  4.70"
      ]
     },
     "execution_count": 19,
     "metadata": {},
     "output_type": "execute_result"
    }
   ],
   "source": [
    "x = df.drop(['Class'], axis=1)\n",
    "x.head()"
   ]
  },
  {
   "cell_type": "code",
   "execution_count": 20,
   "id": "0ae9f3a9-2f70-4cd8-baea-b7c384c1af83",
   "metadata": {},
   "outputs": [
    {
     "data": {
      "text/plain": [
       "0    0\n",
       "1    0\n",
       "2    0\n",
       "3    1\n",
       "4    0\n",
       "Name: Class, dtype: int64"
      ]
     },
     "execution_count": 20,
     "metadata": {},
     "output_type": "execute_result"
    }
   ],
   "source": [
    "y = df['Class']\n",
    "y.head()"
   ]
  },
  {
   "cell_type": "code",
   "execution_count": 21,
   "id": "21466ba5-5401-4391-a051-79e7b4d1cd82",
   "metadata": {},
   "outputs": [],
   "source": [
    "from sklearn.model_selection import train_test_split\n",
    "x_train , x_test , y_train , y_test = train_test_split(x , y, test_size=0.3 , random_state=42)"
   ]
  },
  {
   "cell_type": "code",
   "execution_count": 22,
   "id": "f749e276-c768-42b6-b859-4ccebc34e962",
   "metadata": {},
   "outputs": [
    {
     "name": "stdout",
     "output_type": "stream",
     "text": [
      "The shape of X_train is: (28, 2)\n",
      "The shape of y_train is: (28,)\n",
      "We have m = 28 training examples\n"
     ]
    }
   ],
   "source": [
    "print ('The shape of X_train is: ' + str(x_train.shape))\n",
    "print ('The shape of y_train is: ' + str(y_train.shape))\n",
    "print ('We have m = %d training examples' % (len(y_train)))"
   ]
  },
  {
   "cell_type": "code",
   "execution_count": 23,
   "id": "316b55d2-8d6c-4fea-b462-54fac4c4d824",
   "metadata": {},
   "outputs": [
    {
     "name": "stdout",
     "output_type": "stream",
     "text": [
      "The shape of X_test is: (12, 2)\n",
      "The shape of y_test is: (12,)\n",
      "We have m = 28 training examples\n"
     ]
    }
   ],
   "source": [
    "print ('The shape of X_test is: ' + str(x_test.shape))\n",
    "print ('The shape of y_test is: ' + str(y_test.shape))\n",
    "print ('We have m = %d training examples' % (len(y_train)))"
   ]
  },
  {
   "cell_type": "markdown",
   "id": "cd6f1a10-c158-4ee0-9f93-f6e33455fbb3",
   "metadata": {},
   "source": [
    "## Model Training and Evaluation\n"
   ]
  },
  {
   "cell_type": "code",
   "execution_count": 25,
   "id": "48a8917a-3ae8-408c-8917-8c0becf5fd18",
   "metadata": {},
   "outputs": [
    {
     "name": "stdout",
     "output_type": "stream",
     "text": [
      "    Weight  Size\n",
      "19      74  5.50\n",
      "16      69  4.66\n",
      "15      65  4.48\n",
      "26      67  4.01\n",
      "4       67  4.70\n",
      "12      74  5.53\n",
      "37      74  5.48\n",
      "27      70  4.22\n",
      "39      73  5.03\n",
      "6       70  5.56\n",
      "25      71  5.35\n",
      "9       65  4.27\n",
      "[1 0 0 0 0 1 1 0 1 0 1 0]\n",
      "Accuracy: 0.9166666666666666\n"
     ]
    }
   ],
   "source": [
    "k_values = [3, 5, 7]\n",
    "\n",
    "results = [] \n",
    "for k in k_values:\n",
    "      knn_classifier = KNeighborsClassifier(n_neighbors=k)\n",
    "      knn_classifier.fit(x_train, y_train)\n",
    "\n",
    "print(x_test)\n",
    "\n",
    "y_pred = knn_classifier.predict(x_test)\n",
    "print(y_pred)\n",
    "\n",
    "accuracy = accuracy_score(y_test, y_pred)\n",
    "print(\"Accuracy:\", accuracy)\n"
   ]
  },
  {
   "cell_type": "code",
   "execution_count": 26,
   "id": "be9acf24-6c04-4279-86ba-49a9adaf9c3e",
   "metadata": {},
   "outputs": [
    {
     "name": "stderr",
     "output_type": "stream",
     "text": [
      "C:\\Users\\admin\\AppData\\Roaming\\Python\\Python312\\site-packages\\sklearn\\base.py:493: UserWarning: X does not have valid feature names, but KNeighborsClassifier was fitted with feature names\n",
      "  warnings.warn(\n"
     ]
    },
    {
     "data": {
      "image/png": "[encoded data removed]",
      "text/plain": [
       "<Figure size 800x600 with 1 Axes>"
      ]
     },
     "metadata": {},
     "output_type": "display_data"
    }
   ],
   "source": [
    "x_min, x_max = x['Weight'].min() - 1, x['Weight'].max() + 1 \n",
    "y_min, y_max = x['Size'].min() - 1, x['Size'].max() + 1 \n",
    "xx, yy = np.meshgrid(np.arange(x_min, x_max, 0.1), np.arange(y_min, y_max, 0.1)) \n",
    "\n",
    "Z = knn_classifier.predict(np.c_[xx.ravel(), yy.ravel()]) \n",
    "\n",
    "Z = Z.reshape(xx.shape)\n",
    " \n",
    "plt.figure(figsize=(8, 6)) \n",
    "plt.contourf(xx, yy, Z, alpha=0.3, cmap=plt.cm.Paired) \n",
    "\n",
    "for fruit_class in df['Class'].unique(): \n",
    "    subset = df[df['Class'] == fruit_class] \n",
    "    plt.scatter(subset['Weight'], subset['Size'], label='Apple' if fruit_class == 1 else 'Orange') \n",
    "plt.xlabel('Weight (grams)') \n",
    "plt.ylabel('Size (cm)') \n",
    "plt.title('Apple vs Orange Classification with KNN')\n",
    "plt.legend() \n",
    "plt.show()"
   ]
  },
  {
   "cell_type": "markdown",
   "id": "22a31ef4-7d69-4d23-9455-b2303fa908d3",
   "metadata": {},
   "source": [
    "\n",
    "### The model's performance is evaluated using accuracy and confusion matrices for different values of k (3, 5, and 7). The confusion matrices help visualize the classification performance for each k value."
   ]
  },
  {
   "cell_type": "markdown",
   "id": "440c5039-e33d-421b-bf2e-8418438d2894",
   "metadata": {},
   "source": [
    "## Confusion Matrix for only testing dataset"
   ]
  },
  {
   "cell_type": "code",
   "execution_count": 29,
   "id": "622b9ec8-9a9f-4b98-9209-f8ed8371c584",
   "metadata": {},
   "outputs": [
    {
     "name": "stdout",
     "output_type": "stream",
     "text": [
      "Accuracy: 1.0\n"
     ]
    },
    {
     "data": {
      "image/png": "[encoded data removed]",
      "text/plain": [
       "<Figure size 800x600 with 2 Axes>"
      ]
     },
     "metadata": {},
     "output_type": "display_data"
    }
   ],
   "source": [
    "import seaborn as sns\n",
    "knn_classifier = KNeighborsClassifier(n_neighbors=1)\n",
    "knn_classifier.fit(x_train, y_train)\n",
    "\n",
    "\n",
    "y_pred = knn_classifier.predict(x_test)\n",
    "\n",
    "accuracy = accuracy_score(y_test, y_pred)\n",
    "print(\"Accuracy:\", accuracy)\n",
    "\n",
    "conf_matrix = confusion_matrix(y_test, y_pred)\n",
    "\n",
    "plt.figure(figsize=(8, 6))\n",
    "sns.heatmap(conf_matrix, annot=True, fmt='d', cmap='Blues', xticklabels=['Predicted Class 0', 'Predicted Class 1'], yticklabels=['Actual Class 0', 'Actual Class 1'])\n",
    "plt.xlabel('Predicted')\n",
    "plt.ylabel('Actual')\n",
    "plt.title('Confusion Matrix')\n",
    "plt.show()\n"
   ]
  },
  {
   "cell_type": "markdown",
   "id": "aee7af8a-ee23-4b04-affa-e31795730b0e",
   "metadata": {},
   "source": [
    "## Confusion Matrix for traning and testing datase"
   ]
  },
  {
   "cell_type": "code",
   "execution_count": 31,
   "id": "ffa4c185-2a49-46eb-85b1-4d745ed5effc",
   "metadata": {},
   "outputs": [
    {
     "name": "stdout",
     "output_type": "stream",
     "text": [
      "Training Accuracy: 1.0\n",
      "Test Accuracy: 1.0\n"
     ]
    },
    {
     "data": {
      "image/png": "[encoded data removed]",
      "text/plain": [
       "<Figure size 1200x500 with 2 Axes>"
      ]
     },
     "metadata": {},
     "output_type": "display_data"
    }
   ],
   "source": [
    "y_train_pred = knn_classifier.predict(x_train)\n",
    "y_test_pred = knn_classifier.predict(x_test)\n",
    "\n",
    "train_accuracy = accuracy_score(y_train, y_train_pred)\n",
    "test_accuracy = accuracy_score(y_test, y_test_pred)\n",
    "print(\"Training Accuracy:\", train_accuracy)\n",
    "print(\"Test Accuracy:\", test_accuracy)\n",
    "\n",
    "train_cm = confusion_matrix(y_train, y_train_pred)\n",
    "test_cm = confusion_matrix(y_test, y_test_pred)\n",
    "\n",
    "fig, ax = plt.subplots(1, 2, figsize=(12, 5))\n",
    "ConfusionMatrixDisplay(train_cm, display_labels=['Orange', 'Apple']).plot(ax=ax[0], colorbar=False)\n",
    "ConfusionMatrixDisplay(test_cm, display_labels=['Orange', 'Apple']).plot(ax=ax[1], colorbar=False)\n",
    "ax[0].set_title('Training Confusion Matrix')\n",
    "ax[1].set_title('Test Confusion Matrix')\n",
    "plt.show()\n"
   ]
  },
  {
   "cell_type": "code",
   "execution_count": 32,
   "id": "ec369ba5-b79e-4673-952c-df33d56c4eae",
   "metadata": {},
   "outputs": [],
   "source": [
    "new_data_point = pd.DataFrame({'Weight': [150], 'Size': [7.1]})"
   ]
  },
  {
   "cell_type": "code",
   "execution_count": 33,
   "id": "d56dc8f1-4e5e-4e88-bfb0-1181bbd6b57c",
   "metadata": {},
   "outputs": [
    {
     "name": "stdout",
     "output_type": "stream",
     "text": [
      "The predicted class for the new data point (Weight: 150, Size: 7.1) is: apple\n"
     ]
    }
   ],
   "source": [
    "predicted_class = knn_classifier.predict(new_data_point) \n",
    "predicted_label = 'apple' if predicted_class[0] == 1 else 'orange' \n",
    "print(f\"The predicted class for the new data point (Weight: 150, Size: 7.1) is: {predicted_label}\")"
   ]
  },
  {
   "cell_type": "code",
   "execution_count": null,
   "id": "d4dcd05a-b20d-45f1-9d84-d181afcb5b59",
   "metadata": {},
   "outputs": [],
   "source": []
  },
  {
   "cell_type": "code",
   "execution_count": null,
   "id": "c952ff96-078c-4cc9-8a74-32539f0ecd4c",
   "metadata": {},
   "outputs": [],
   "source": []
  }
 ],
 "metadata": {
  "kernelspec": {
   "display_name": "Python 3 (ipykernel)",
   "language": "python",
   "name": "python3"
  },
  "language_info": {
   "codemirror_mode": {
    "name": "ipython",
    "version": 3
   },
   "file_extension": ".py",
   "mimetype": "text/x-python",
   "name": "python",
   "nbconvert_exporter": "python",
   "pygments_lexer": "ipython3",
   "version": "3.12.4"
  }
 },
 "nbformat": 4,
 "nbformat_minor": 5
}
